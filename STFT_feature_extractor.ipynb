{
 "cells": [
  {
   "cell_type": "code",
   "execution_count": 0,
   "metadata": {
    "colab": {},
    "colab_type": "code",
    "id": "XzZIEm_jUOyE"
   },
   "outputs": [],
   "source": [
    "import librosa\n",
    "import os\n",
    "import numpy as np"
   ]
  },
  {
   "cell_type": "code",
   "execution_count": 0,
   "metadata": {
    "colab": {},
    "colab_type": "code",
    "id": "VrOTkLYXUdGi"
   },
   "outputs": [],
   "source": [
    "def save_STFT(file, name, activity, subject):\n",
    "    # read audio data\n",
    "    audio_data, sample_rate = librosa.load(file)\n",
    "    \n",
    "    # noise reduction\n",
    "    noisy_part = audio_data[0:25000]  \n",
    "    reduced_noise = nr.reduce_noise(audio_clip=audio_data, noise_clip=noisy_part, verbose=False)\n",
    "    \n",
    "    #trimming\n",
    "    trimmed, index = librosa.effects.trim(reduced_noise, top_db=20, frame_length=512, hop_length=64)\n",
    "    \n",
    "    # extract features\n",
    "    stft = np.abs(librosa.stft(trimmed, n_fft=512, hop_length=256, win_length=512))\n",
    "    # save features\n",
    "    np.save(\"STFT_features/stft_257_1/\" + subject + \"_\" + name[:-4] + \"_\" + activity + \".npy\", stft)\n",
    "    "
   ]
  },
  {
   "cell_type": "code",
   "execution_count": 0,
   "metadata": {
    "colab": {
     "base_uri": "https://localhost:8080/",
     "height": 663
    },
    "colab_type": "code",
    "id": "r_6qO4CUUOyX",
    "outputId": "90f807d4-f067-456c-9a29-a7cfdd86d98b"
   },
   "outputs": [
    {
     "name": "stdout",
     "output_type": "stream",
     "text": [
      "s01 Calling 2019-05-22-18-14-56-531000__1.wav\n",
      "s01 Calling 2019-05-22-16-37-48-757000__1.wav\n",
      "s01 Calling 2019-05-22-16-37-48-757000__23.wav\n",
      "s01 Calling 2019-05-22-16-37-48-757000__24.wav\n",
      "s01 Calling 2019-05-22-18-14-56-531000__23.wav\n",
      "s01 Calling 2019-05-22-18-14-56-531000__24.wav\n",
      "s02 Calling 2019-05-22-17-07-30-081000__23.wav\n",
      "s02 Calling 2019-05-22-18-27-59-829000__1.wav\n",
      "s02 Calling 2019-05-22-17-07-30-081000__1.wav\n",
      "s02 Calling 2019-05-22-17-07-30-081000__24.wav\n",
      "s02 Calling 2019-05-22-18-27-59-829000__23.wav\n",
      "s02 Calling 2019-05-22-18-27-59-834000__24.wav\n",
      "s03 Calling 2019-05-22-17-24-25-065000__23.wav\n",
      "s03 Calling 2019-05-22-17-24-25-065000__24.wav\n",
      "s03 Calling 2019-05-22-18-42-21-590000__1.wav\n",
      "s03 Calling 2019-05-22-17-24-25-065000__1.wav\n",
      "s03 Calling 2019-05-22-18-42-21-590000__23.wav\n",
      "s03 Calling 2019-05-22-18-42-21-590000__24.wav\n",
      "s04 Calling 2019-05-23-12-23-23-651000__23.wav\n",
      "s04 Calling 2019-05-23-12-23-23-651000__1.wav\n",
      "s04 Calling 2019-05-23-12-38-56-289000__1.wav\n",
      "s04 Calling 2019-05-23-12-23-23-651000__24.wav\n",
      "s04 Calling 2019-05-23-12-38-56-289000__23.wav\n",
      "s04 Calling 2019-05-23-12-38-56-289000__24.wav\n",
      "s05 Calling 2019-05-23-15-00-21-197000__23.wav\n",
      "s05 Calling 2019-05-23-15-00-21-197000__1.wav\n",
      "s05 Calling 2019-05-23-15-00-21-197000__24.wav\n",
      "s05 Calling 2019-05-23-14-44-14-725000__24.wav\n",
      "s05 Calling 2019-05-23-14-44-14-725000__23.wav\n",
      "s05 Calling 2019-05-23-14-44-14-725000__1.wav\n",
      "s06 Calling 2019-05-23-16-15-45-576000__1.wav\n",
      "s06 Calling 2019-05-23-15-57-38-652000__24.wav\n",
      "s06 Calling 2019-05-23-15-57-38-652000__23.wav\n",
      "s06 Calling 2019-05-23-15-57-38-652000__1.wav\n",
      "s06 Calling 2019-05-23-16-15-45-576000__23.wav\n",
      "s06 Calling 2019-05-23-16-15-45-576000__24.wav\n",
      "s07 Calling 2019-05-23-16-42-24-545000__24.wav\n",
      "s07 Calling 2019-05-23-16-42-24-545000__1.wav\n",
      "s07 Calling 2019-05-23-16-53-32-897000__1.wav\n",
      "s07 Calling 2019-05-23-16-42-24-545000__23.wav\n",
      "s07 Calling 2019-05-23-16-53-32-897000__23.wav\n",
      "s07 Calling 2019-05-23-16-53-32-897000__24.wav\n",
      "s08 Calling 2019-05-23-17-21-38-262000__24.wav\n",
      "s08 Calling 2019-05-23-17-21-38-262000__1.wav\n",
      "s08 Calling 2019-05-23-17-21-38-262000__23.wav\n",
      "s08 Calling 2019-05-23-17-31-33-388000__24.wav\n",
      "s08 Calling 2019-05-23-17-31-33-388000__23.wav\n",
      "s08 Calling 2019-05-23-17-31-33-388000__1.wav\n",
      "s09 Calling 2019-05-23-18-01-25-447000__1.wav\n",
      "s09 Calling 2019-05-23-18-01-25-447000__23.wav\n"
     ]
    }
   ],
   "source": [
    "activities = ['Calling', 'Clapping', 'Drinking', 'Eating', 'Entering',\n",
    "              'Exiting', 'Falling', 'LyingDown', 'OpeningPillContainer',\n",
    "              'PickingObject', 'Reading', 'SitStill', 'Sitting', 'Sleeping',\n",
    "              'StandUp', 'Sweeping', 'UseLaptop', 'UsingPhone', 'WakeUp', 'Walking',\n",
    "              'WashingHand', 'WatchingTV', 'WaterPouring', 'Writing']\n",
    "    \n",
    "subjects = ['s01', 's02', 's03', 's04', 's05', 's06', 's07', 's08', 's09',\n",
    "            's10', 's11', 's12', 's13', 's14', 's15', 's16', 's17']\n",
    "\n",
    "for activity in activities:\n",
    "    for subject in subjects:\n",
    "        innerDir = subject + \"/\" + activity\n",
    "        for file in os.listdir(\"Dataset_audio/\" + innerDir):\n",
    "            if(file.endswith(\".wav\")):\n",
    "                save_STFT(\"Dataset_audio/\" + innerDir + \"/\" + file, file, activity, subject)\n",
    "                print(subject,activity,file)"
   ]
  },
  {
   "cell_type": "code",
   "execution_count": 0,
   "metadata": {
    "colab": {},
    "colab_type": "code",
    "id": "SkHhfRkAW8ms"
   },
   "outputs": [],
   "source": []
  }
 ],
 "metadata": {
  "accelerator": "GPU",
  "colab": {
   "collapsed_sections": [],
   "machine_shape": "hm",
   "name": "STFT_feature_extractor.ipynb",
   "provenance": [],
   "version": "0.3.2"
  },
  "kernelspec": {
   "display_name": "Python 3",
   "language": "python",
   "name": "python3"
  },
  "language_info": {
   "codemirror_mode": {
    "name": "ipython",
    "version": 3
   },
   "file_extension": ".py",
   "mimetype": "text/x-python",
   "name": "python",
   "nbconvert_exporter": "python",
   "pygments_lexer": "ipython3",
   "version": "3.7.2"
  }
 },
 "nbformat": 4,
 "nbformat_minor": 1
}
